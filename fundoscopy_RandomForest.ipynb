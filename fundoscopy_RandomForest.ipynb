{
 "cells": [
  {
   "cell_type": "code",
   "execution_count": 2,
   "id": "b6a80c2b-8eed-4e24-9f4c-575c58c058df",
   "metadata": {},
   "outputs": [],
   "source": [
    "import cv2 as cv\n",
    "from glob import glob\n",
    "from matplotlib import pyplot as plt\n",
    "import numpy as np\n",
    "import pandas as pd"
   ]
  },
  {
   "cell_type": "code",
   "execution_count": 4,
   "id": "6e094d53-3310-4c30-abeb-920e0675ef40",
   "metadata": {},
   "outputs": [],
   "source": [
    "def preprocess(img):\n",
    "    img = cv.cvtColor(img, cv.COLOR_RGB2BGR)\n",
    "    img_green = img[:, :, 1]\n",
    "    img = np.zeros(img.shape)\n",
    "    img[:, :, 1] = img_green\n",
    "    img = cv.cvtColor(img.astype(np.uint8), cv.COLOR_BGR2GRAY)\n",
    "    img = cv.GaussianBlur(img, (3,3), 0)\n",
    "    plt.figure()\n",
    "    plt.imshow(img, 'gray')\n",
    "    return img"
   ]
  },
  {
   "cell_type": "code",
   "execution_count": 5,
   "id": "e8dcc767-3afb-4ad6-91d3-b39463c07e98",
   "metadata": {},
   "outputs": [],
   "source": [
    "def prepare_tile(img, x, y, size):\n",
    "    tile = img[y:y+size, x:x+size]\n",
    "    return tile    "
   ]
  },
  {
   "cell_type": "code",
   "execution_count": 9,
   "id": "def2ad19-9b62-4394-bc3b-a0f4a4bfe826",
   "metadata": {},
   "outputs": [
    {
     "name": "stdout",
     "output_type": "stream",
     "text": [
      "Empty DataFrame\n",
      "Columns: [color_average, color_mean, m1, m2, m3, h1, h2, h3, result]\n",
      "Index: []\n"
     ]
    }
   ],
   "source": [
    "df = pd.DataFrame(columns=['color_average', 'color_mean', 'm1', 'm2', 'm3', 'h1', 'h2', 'h3', 'result'])\n",
    "print(df)"
   ]
  },
  {
   "cell_type": "code",
   "execution_count": null,
   "id": "73e7dc6a-d420-484d-9da0-90c9aca40bc7",
   "metadata": {},
   "outputs": [],
   "source": [
    "#generating train data\n",
    "files = glob('images/*')\n",
    "masks = glob('manual1/*')\n",
    "train_photo_number = 5\n",
    "tile_size = 5\n",
    "i=4\n",
    "for file, mask in zip(files, masks):\n",
    "    img = cv.imread(file)\n",
    "    mask = cv.imread(mask)\n",
    "    img = preprocess(img)\n",
    "    y_size, x_size = img.shape\n",
    "    \n",
    "    for x in range(0, x_size-tile_size, 3):\n",
    "        for y in range(0,y_size-tile_size):\n",
    "            tile = prepare_tile(img, x, y, tile_size)\n",
    "            #print(cv.moments(tile))\n",
    "            \n",
    "    i+=1\n",
    "    if(i >= train_photo_number):\n",
    "        break\n",
    "    #for x in range("
   ]
  }
 ],
 "metadata": {
  "kernelspec": {
   "display_name": "Python 3 (ipykernel)",
   "language": "python",
   "name": "python3"
  },
  "language_info": {
   "codemirror_mode": {
    "name": "ipython",
    "version": 3
   },
   "file_extension": ".py",
   "mimetype": "text/x-python",
   "name": "python",
   "nbconvert_exporter": "python",
   "pygments_lexer": "ipython3",
   "version": "3.9.7"
  }
 },
 "nbformat": 4,
 "nbformat_minor": 5
}
